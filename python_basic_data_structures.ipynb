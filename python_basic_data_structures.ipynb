{
 "cells": [
  {
   "cell_type": "markdown",
   "metadata": {},
   "source": [
    "# Python Basic Data Structures by NITIN PRODDUTURI"
   ]
  },
  {
   "cell_type": "markdown",
   "metadata": {},
   "source": [
    "# list in Python"
   ]
  },
  {
   "cell_type": "code",
   "execution_count": 53,
   "metadata": {},
   "outputs": [
    {
     "name": "stdout",
     "output_type": "stream",
     "text": [
      "[]\n",
      "[1, 2, 3]\n",
      "[1, 'hello', 2.0]\n"
     ]
    }
   ],
   "source": [
    "#python list\n",
    "my_list1=[]\n",
    "my_list2=[1,2,3]\n",
    "my_list3=[1,\"hello\",2.0]\n",
    "print(my_list1)\n",
    "print(my_list2)\n",
    "print(my_list3)"
   ]
  },
  {
   "cell_type": "code",
   "execution_count": 14,
   "metadata": {},
   "outputs": [
    {
     "name": "stdout",
     "output_type": "stream",
     "text": [
      "a\n",
      "b\n",
      "g\n",
      "e\n",
      "['a', 'b', 'c', 'd', 'e', 'f', 'g']\n",
      "['a', 'b', 'c', 'd', 'e', 'f', 'g']\n",
      "['b', 'c', 'd', 'e', 'f', 'g']\n",
      "['f', 'g']\n",
      "['a', 'b']\n",
      "['g', 'f', 'e', 'd', 'c', 'b', 'a']\n",
      "['a', 'c', 'e', 'g']\n",
      "['a', 'b', 'c', 'd', 'e', 'f', 'g']\n",
      "['g', 'e', 'c', 'a']\n"
     ]
    }
   ],
   "source": [
    "#list indexing \n",
    "my_list=['a','b','c','d','e','f','g']\n",
    "print(my_list[0])\n",
    "print(my_list[1])\n",
    "print(my_list[-1])\n",
    "print(my_list[-3])\n",
    "print(my_list[:])\n",
    "print(my_list[0:])\n",
    "print(my_list[1:])\n",
    "print(my_list[5:])\n",
    "print(my_list[:2])\n",
    "print(my_list[::-1])\n",
    "print(my_list[::2])\n",
    "print(my_list[::])\n",
    "print(my_list[-1::-2])"
   ]
  },
  {
   "cell_type": "code",
   "execution_count": 18,
   "metadata": {},
   "outputs": [
    {
     "name": "stdout",
     "output_type": "stream",
     "text": [
      "hello\n",
      "l\n",
      "8\n"
     ]
    }
   ],
   "source": [
    "#nested list\n",
    "my_list=[1,\"hello\",[2,4,6,8]]\n",
    "print(my_list[1])\n",
    "print(my_list[1][2])\n",
    "print(my_list[2][-1])"
   ]
  },
  {
   "cell_type": "code",
   "execution_count": 20,
   "metadata": {},
   "outputs": [
    {
     "name": "stdout",
     "output_type": "stream",
     "text": [
      "odd initially [1, 3, 4, 7, 9]\n",
      "odd finally [1, 3, 5, 7, 9]\n"
     ]
    }
   ],
   "source": [
    "#list is mutable unlike tuple and string\n",
    "odd=[1,3,4,7,9]\n",
    "print('odd initially',odd)\n",
    "odd[2]=5\n",
    "print('odd finally',odd)"
   ]
  },
  {
   "cell_type": "code",
   "execution_count": 24,
   "metadata": {},
   "outputs": [
    {
     "name": "stdout",
     "output_type": "stream",
     "text": [
      "initially odd1 [1, 3, 5, 7]\n",
      "initially odd2 [11, 13, 15, 17]\n",
      "odd1 after appending 9: [1, 3, 5, 7, 9]\n",
      "odd1 after extending odd2 [1, 3, 5, 7, 9, 11, 13, 15, 17]\n"
     ]
    }
   ],
   "source": [
    "#append and extend in python list\n",
    "odd1=[1,3,5,7]\n",
    "odd2=[11,13,15,17]\n",
    "print('initially odd1',odd1)\n",
    "print('initially odd2',odd2)\n",
    "odd1.append(9)\n",
    "print('odd1 after appending 9:',odd1)\n",
    "odd1.extend(odd2)\n",
    "print('odd1 after extending odd2',odd1)"
   ]
  },
  {
   "cell_type": "code",
   "execution_count": 27,
   "metadata": {},
   "outputs": [
    {
     "name": "stdout",
     "output_type": "stream",
     "text": [
      "[1, 3, 5, 7, 9]\n",
      "['re', 're', 're']\n",
      "['re', 'se', 're', 'se', 're', 'se']\n"
     ]
    }
   ],
   "source": [
    "#concatinating and repeating lists\n",
    "odd_old=[1,3,5]\n",
    "odd_new=odd_old+[7,9,11]\n",
    "print(odd)\n",
    "lst=[\"re\"]*3\n",
    "print(lst)\n",
    "lst=[\"re\",\"se\"]*3\n",
    "print(lst)"
   ]
  },
  {
   "cell_type": "code",
   "execution_count": 29,
   "metadata": {},
   "outputs": [
    {
     "name": "stdout",
     "output_type": "stream",
     "text": [
      "initial my_list [1, 2, 3, 4]\n",
      "final my_list [1, 2, 2.5, 3, 4]\n"
     ]
    }
   ],
   "source": [
    "#inserting at specific index in python list\n",
    "my_list=[1,2,3,4]\n",
    "print('initial my_list',my_list)\n",
    "my_list.insert(2,2.5)\n",
    "print('final my_list',my_list)"
   ]
  },
  {
   "cell_type": "code",
   "execution_count": 37,
   "metadata": {},
   "outputs": [
    {
     "name": "stdout",
     "output_type": "stream",
     "text": [
      "initial my_list [1, 2, 3, 4, 5, 6]\n",
      "new my_list [1, 2, 3, 5, 6]\n"
     ]
    }
   ],
   "source": [
    "#del elements in list\n",
    "my_list=[1,2,3,4,5,6]\n",
    "print('initial my_list',my_list)\n",
    "del my_list[3]\n",
    "print('new my_list',my_list)"
   ]
  },
  {
   "cell_type": "code",
   "execution_count": 38,
   "metadata": {},
   "outputs": [],
   "source": [
    "#deleting complete list\n",
    "del my_list"
   ]
  },
  {
   "cell_type": "code",
   "execution_count": 39,
   "metadata": {},
   "outputs": [
    {
     "ename": "NameError",
     "evalue": "name 'my_list' is not defined",
     "output_type": "error",
     "traceback": [
      "\u001b[1;31m---------------------------------------------------------------------------\u001b[0m",
      "\u001b[1;31mNameError\u001b[0m                                 Traceback (most recent call last)",
      "\u001b[1;32m<ipython-input-39-77fb34908292>\u001b[0m in \u001b[0;36m<module>\u001b[1;34m\u001b[0m\n\u001b[1;32m----> 1\u001b[1;33m \u001b[0mprint\u001b[0m\u001b[1;33m(\u001b[0m\u001b[0mmy_list\u001b[0m\u001b[1;33m)\u001b[0m\u001b[1;33m\u001b[0m\u001b[1;33m\u001b[0m\u001b[0m\n\u001b[0m",
      "\u001b[1;31mNameError\u001b[0m: name 'my_list' is not defined"
     ]
    }
   ],
   "source": [
    "print(my_list)"
   ]
  },
  {
   "cell_type": "code",
   "execution_count": 46,
   "metadata": {},
   "outputs": [
    {
     "name": "stdout",
     "output_type": "stream",
     "text": [
      "initial my_list ['a', 'b', 'c', 'd', 'e', 'f']\n",
      "a removed my_list ['b', 'c', 'd', 'e', 'f']\n",
      "popped my_list ['b', 'c', 'd', 'e']\n",
      "popped 2 ele of my_list from last ['b', 'c', 'e']\n",
      "cleared list: []\n"
     ]
    }
   ],
   "source": [
    "#remove pop clear methods in list\n",
    "my_list=['a','b','c','d','e','f']\n",
    "print('initial my_list',my_list)\n",
    "my_list.remove('a')\n",
    "print('a removed my_list',my_list)\n",
    "my_list.pop()\n",
    "print('popped my_list',my_list)\n",
    "my_list.pop(2)\n",
    "print('popped 2 ele of my_list from last',my_list)\n",
    "my_list.clear()\n",
    "print('cleared list:',my_list)"
   ]
  },
  {
   "cell_type": "code",
   "execution_count": 48,
   "metadata": {},
   "outputs": [
    {
     "name": "stdout",
     "output_type": "stream",
     "text": [
      "lst initial ['a', 'b', 'c', 'd']\n",
      "lst modified ['a', 'd']\n"
     ]
    }
   ],
   "source": [
    "lst=['a','b','c','d']\n",
    "print('lst initial',lst)\n",
    "lst[1:3]=[]\n",
    "print('lst modified',lst)"
   ]
  },
  {
   "cell_type": "code",
   "execution_count": 55,
   "metadata": {},
   "outputs": [
    {
     "name": "stdout",
     "output_type": "stream",
     "text": [
      "2\n",
      "5\n",
      "8\n"
     ]
    }
   ],
   "source": [
    "#index method in python list\n",
    "vowels=['a','e','i','o','u','i','a','e','i','o','u']\n",
    "print(vowels.index('i'))\n",
    "#search after 4th index\n",
    "print(vowels.index('i',4))\n",
    "#search between 6 and 10th index\n",
    "print(vowels.index('i',6,10))"
   ]
  },
  {
   "cell_type": "code",
   "execution_count": 3,
   "metadata": {},
   "outputs": [
    {
     "name": "stdout",
     "output_type": "stream",
     "text": [
      "count of i is: 2\n",
      "count of i is: 1\n",
      "count of x is: 0\n"
     ]
    }
   ],
   "source": [
    "#count in python list\n",
    "vowels=['a','e','i','i','o','u']\n",
    "cnt=vowels.count('i')\n",
    "print(\"count of i is:\",cnt)\n",
    "cnt1=vowels.count('o')\n",
    "print(\"count of i is:\",cnt1)\n",
    "print(\"count of x is:\",vowels.count('x'))"
   ]
  },
  {
   "cell_type": "code",
   "execution_count": 7,
   "metadata": {},
   "outputs": [
    {
     "name": "stdout",
     "output_type": "stream",
     "text": [
      "vowels initial:  ['e', 'i', 'o', 'a', 'u']\n",
      "vowels sorted:  ['a', 'e', 'i', 'o', 'u']\n",
      "vowels reverse sorted:  ['u', 'o', 'i', 'e', 'a']\n"
     ]
    }
   ],
   "source": [
    "#sort in list\n",
    "vowels=['e','i','o','a','u']\n",
    "print('vowels initial: ',vowels)\n",
    "vowels.sort()\n",
    "print('vowels sorted: ',vowels)\n",
    "vowels.sort(reverse=True)\n",
    "print('vowels reverse sorted: ',vowels)\n",
    "#or sorted(list,reverse=True)"
   ]
  },
  {
   "cell_type": "code",
   "execution_count": 9,
   "metadata": {},
   "outputs": [
    {
     "name": "stdout",
     "output_type": "stream",
     "text": [
      "['u', 'o', 'i', 'e', 'a']\n"
     ]
    }
   ],
   "source": [
    "#reverse in python list\n",
    "v=['a', 'e', 'i', 'o', 'u']\n",
    "v.reverse()\n",
    "print(v)"
   ]
  },
  {
   "cell_type": "code",
   "execution_count": 15,
   "metadata": {},
   "outputs": [
    {
     "name": "stdout",
     "output_type": "stream",
     "text": [
      "['a', 'e', 'i', 'o', 'u']\n"
     ]
    }
   ],
   "source": [
    "#copy method in list\n",
    "v=['a','e','i','o','u']\n",
    "v1=v.copy()\n",
    "print(v1)"
   ]
  },
  {
   "cell_type": "code",
   "execution_count": 45,
   "metadata": {},
   "outputs": [
    {
     "name": "stdout",
     "output_type": "stream",
     "text": [
      "[2, 4, 6, 8, 10, 12, 14, 16, 18, 20]\n"
     ]
    }
   ],
   "source": [
    "#list comprehension\n",
    "even=[x for x in range(1,21) if x%2==0]\n",
    "print(even)"
   ]
  },
  {
   "cell_type": "markdown",
   "metadata": {},
   "source": [
    "# tuple in python"
   ]
  },
  {
   "cell_type": "code",
   "execution_count": 18,
   "metadata": {},
   "outputs": [
    {
     "name": "stdout",
     "output_type": "stream",
     "text": [
      "()\n",
      "(1, 2, 3)\n",
      "(1, 'nitin', 2.3)\n",
      "(1, 'nitin', 2.3, [1, 2, 3, 4])\n"
     ]
    }
   ],
   "source": [
    "#creating tuples\n",
    "my_tuple=()\n",
    "print(my_tuple)\n",
    "my_tuple=(1,2,3)\n",
    "print(my_tuple)\n",
    "my_tuple=(1,\"nitin\",2.3)\n",
    "print(my_tuple)\n",
    "my_tuple=(1,\"nitin\",2.3,[1,2,3,4])\n",
    "print(my_tuple)"
   ]
  },
  {
   "cell_type": "code",
   "execution_count": 19,
   "metadata": {},
   "outputs": [
    {
     "data": {
      "text/plain": [
       "tuple"
      ]
     },
     "execution_count": 19,
     "metadata": {},
     "output_type": "execute_result"
    }
   ],
   "source": [
    "my_tuple=2,4.2,\"nitin\"\n",
    "type(my_tuple)"
   ]
  },
  {
   "cell_type": "code",
   "execution_count": 28,
   "metadata": {},
   "outputs": [
    {
     "name": "stdout",
     "output_type": "stream",
     "text": [
      "3\n",
      "7\n",
      "[5, 6, 7, 8]\n",
      "8\n",
      "(2, 3, 4, [5, 6, 7, 8])\n",
      "(1, 2, 3, 4, [5, 6, 7, 8])\n"
     ]
    }
   ],
   "source": [
    "#indexing in tuple\n",
    "my_tuple=(1,2,3,4,[5,6,7,8])\n",
    "print(my_tuple[2])\n",
    "print(my_tuple[4][2])\n",
    "print(my_tuple[-1])\n",
    "print(my_tuple[-1][-1])\n",
    "#slicing\n",
    "print(my_tuple[1:])\n",
    "print(my_tuple[:])"
   ]
  },
  {
   "cell_type": "code",
   "execution_count": 29,
   "metadata": {},
   "outputs": [
    {
     "ename": "TypeError",
     "evalue": "'tuple' object does not support item assignment",
     "output_type": "error",
     "traceback": [
      "\u001b[1;31m---------------------------------------------------------------------------\u001b[0m",
      "\u001b[1;31mTypeError\u001b[0m                                 Traceback (most recent call last)",
      "\u001b[1;32m<ipython-input-29-21f8ea8129b2>\u001b[0m in \u001b[0;36m<module>\u001b[1;34m\u001b[0m\n\u001b[0;32m      1\u001b[0m \u001b[1;31m#tuple is immutable\u001b[0m\u001b[1;33m\u001b[0m\u001b[1;33m\u001b[0m\u001b[1;33m\u001b[0m\u001b[0m\n\u001b[0;32m      2\u001b[0m \u001b[0mt\u001b[0m\u001b[1;33m=\u001b[0m\u001b[1;33m(\u001b[0m\u001b[1;36m1\u001b[0m\u001b[1;33m,\u001b[0m\u001b[1;36m2\u001b[0m\u001b[1;33m,\u001b[0m\u001b[1;36m3\u001b[0m\u001b[1;33m,\u001b[0m\u001b[1;36m4\u001b[0m\u001b[1;33m,\u001b[0m\u001b[1;36m5\u001b[0m\u001b[1;33m)\u001b[0m\u001b[1;33m\u001b[0m\u001b[1;33m\u001b[0m\u001b[0m\n\u001b[1;32m----> 3\u001b[1;33m \u001b[0mt\u001b[0m\u001b[1;33m[\u001b[0m\u001b[1;36m2\u001b[0m\u001b[1;33m]\u001b[0m\u001b[1;33m=\u001b[0m\u001b[1;36m9\u001b[0m\u001b[1;33m\u001b[0m\u001b[1;33m\u001b[0m\u001b[0m\n\u001b[0m",
      "\u001b[1;31mTypeError\u001b[0m: 'tuple' object does not support item assignment"
     ]
    }
   ],
   "source": [
    "#tuple is immutable\n",
    "t=(1,2,3,4,5)\n",
    "t[2]=9"
   ]
  },
  {
   "cell_type": "code",
   "execution_count": 31,
   "metadata": {},
   "outputs": [
    {
     "name": "stdout",
     "output_type": "stream",
     "text": [
      "(1, 2, 3, 4, 5, 6)\n",
      "(1, 2, 3, 1, 2, 3, 1, 2, 3)\n"
     ]
    }
   ],
   "source": [
    "#repeat ele in tuple\n",
    "print((1,2,3)+(4,5,6))\n",
    "print((1,2,3)*3)"
   ]
  },
  {
   "cell_type": "code",
   "execution_count": 32,
   "metadata": {},
   "outputs": [
    {
     "ename": "TypeError",
     "evalue": "'tuple' object doesn't support item deletion",
     "output_type": "error",
     "traceback": [
      "\u001b[1;31m---------------------------------------------------------------------------\u001b[0m",
      "\u001b[1;31mTypeError\u001b[0m                                 Traceback (most recent call last)",
      "\u001b[1;32m<ipython-input-32-d1400e660ae8>\u001b[0m in \u001b[0;36m<module>\u001b[1;34m\u001b[0m\n\u001b[0;32m      1\u001b[0m \u001b[1;31m#tuple is immutable\u001b[0m\u001b[1;33m\u001b[0m\u001b[1;33m\u001b[0m\u001b[1;33m\u001b[0m\u001b[0m\n\u001b[0;32m      2\u001b[0m \u001b[0mt\u001b[0m\u001b[1;33m=\u001b[0m\u001b[1;36m1\u001b[0m\u001b[1;33m,\u001b[0m\u001b[1;36m2\u001b[0m\u001b[1;33m,\u001b[0m\u001b[1;36m3\u001b[0m\u001b[1;33m,\u001b[0m\u001b[1;36m4\u001b[0m\u001b[1;33m,\u001b[0m\u001b[1;36m5\u001b[0m\u001b[1;33m,\u001b[0m\u001b[1;36m6\u001b[0m\u001b[1;33m,\u001b[0m\u001b[1;36m7\u001b[0m\u001b[1;33m,\u001b[0m\u001b[1;36m8\u001b[0m\u001b[1;33m\u001b[0m\u001b[1;33m\u001b[0m\u001b[0m\n\u001b[1;32m----> 3\u001b[1;33m \u001b[1;32mdel\u001b[0m \u001b[0mt\u001b[0m\u001b[1;33m[\u001b[0m\u001b[1;36m2\u001b[0m\u001b[1;33m]\u001b[0m\u001b[1;33m\u001b[0m\u001b[1;33m\u001b[0m\u001b[0m\n\u001b[0m",
      "\u001b[1;31mTypeError\u001b[0m: 'tuple' object doesn't support item deletion"
     ]
    }
   ],
   "source": [
    "#tuple is immutable\n",
    "t=1,2,3,4,5,6,7,8\n",
    "del t[2]"
   ]
  },
  {
   "cell_type": "code",
   "execution_count": 33,
   "metadata": {},
   "outputs": [
    {
     "name": "stdout",
     "output_type": "stream",
     "text": [
      "(1, 2, 3, 4, 5, 6, 7, 8)\n"
     ]
    },
    {
     "ename": "NameError",
     "evalue": "name 't' is not defined",
     "output_type": "error",
     "traceback": [
      "\u001b[1;31m---------------------------------------------------------------------------\u001b[0m",
      "\u001b[1;31mNameError\u001b[0m                                 Traceback (most recent call last)",
      "\u001b[1;32m<ipython-input-33-9140215c0778>\u001b[0m in \u001b[0;36m<module>\u001b[1;34m\u001b[0m\n\u001b[0;32m      1\u001b[0m \u001b[0mprint\u001b[0m\u001b[1;33m(\u001b[0m\u001b[0mt\u001b[0m\u001b[1;33m)\u001b[0m\u001b[1;33m\u001b[0m\u001b[1;33m\u001b[0m\u001b[0m\n\u001b[0;32m      2\u001b[0m \u001b[1;32mdel\u001b[0m \u001b[0mt\u001b[0m\u001b[1;33m\u001b[0m\u001b[1;33m\u001b[0m\u001b[0m\n\u001b[1;32m----> 3\u001b[1;33m \u001b[0mprint\u001b[0m\u001b[1;33m(\u001b[0m\u001b[0mt\u001b[0m\u001b[1;33m)\u001b[0m\u001b[1;33m\u001b[0m\u001b[1;33m\u001b[0m\u001b[0m\n\u001b[0m",
      "\u001b[1;31mNameError\u001b[0m: name 't' is not defined"
     ]
    }
   ],
   "source": [
    "print(t)\n",
    "del t\n",
    "print(t)"
   ]
  },
  {
   "cell_type": "code",
   "execution_count": 40,
   "metadata": {},
   "outputs": [
    {
     "name": "stdout",
     "output_type": "stream",
     "text": [
      "('a', 'p', 'p', 'l', 'e')\n",
      "2\n",
      "3\n"
     ]
    }
   ],
   "source": [
    "#count and index methods in tuple\n",
    "fruit=\"apple\"\n",
    "t=tuple(fruit)\n",
    "print(t)\n",
    "print(t.count('p'))\n",
    "print(t.index('l'))"
   ]
  },
  {
   "cell_type": "markdown",
   "metadata": {},
   "source": [
    "# string in python"
   ]
  },
  {
   "cell_type": "code",
   "execution_count": 43,
   "metadata": {},
   "outputs": [
    {
     "name": "stdout",
     "output_type": "stream",
     "text": [
      "Hello\n",
      "Hello\n",
      "Hello\n",
      "Hey! this is python \n",
      "                practice by NITIN\n"
     ]
    }
   ],
   "source": [
    "#string creation\n",
    "my_string1='Hello'\n",
    "my_string2=\"Hello\"\n",
    "my_string3='''Hello'''\n",
    "my_string4='''Hey! this is python \n",
    "                practice by NITIN'''\n",
    "print(my_string1)\n",
    "print(my_string2)\n",
    "print(my_string3)\n",
    "print(my_string4)"
   ]
  },
  {
   "cell_type": "code",
   "execution_count": 44,
   "metadata": {},
   "outputs": [
    {
     "name": "stdout",
     "output_type": "stream",
     "text": [
      "hello\n",
      "h\n",
      "hello\n",
      "o\n",
      "olleh\n"
     ]
    }
   ],
   "source": [
    "#string indexing\n",
    "str=\"hello\"\n",
    "print(str)\n",
    "print(str[0])\n",
    "print(str[:])\n",
    "print(str[-1])\n",
    "print(str[::-1])"
   ]
  },
  {
   "cell_type": "code",
   "execution_count": 48,
   "metadata": {},
   "outputs": [
    {
     "ename": "TypeError",
     "evalue": "'str' object does not support item assignment",
     "output_type": "error",
     "traceback": [
      "\u001b[1;31m---------------------------------------------------------------------------\u001b[0m",
      "\u001b[1;31mTypeError\u001b[0m                                 Traceback (most recent call last)",
      "\u001b[1;32m<ipython-input-48-2852a0abf9a7>\u001b[0m in \u001b[0;36m<module>\u001b[1;34m\u001b[0m\n\u001b[0;32m      1\u001b[0m \u001b[1;31m#strings are immutable\u001b[0m\u001b[1;33m\u001b[0m\u001b[1;33m\u001b[0m\u001b[1;33m\u001b[0m\u001b[0m\n\u001b[0;32m      2\u001b[0m \u001b[0mmy_str\u001b[0m\u001b[1;33m=\u001b[0m\u001b[1;34m\"hello\"\u001b[0m\u001b[1;33m\u001b[0m\u001b[1;33m\u001b[0m\u001b[0m\n\u001b[1;32m----> 3\u001b[1;33m \u001b[0mmy_str\u001b[0m\u001b[1;33m[\u001b[0m\u001b[1;36m2\u001b[0m\u001b[1;33m]\u001b[0m\u001b[1;33m=\u001b[0m\u001b[1;34m'c'\u001b[0m\u001b[1;33m\u001b[0m\u001b[1;33m\u001b[0m\u001b[0m\n\u001b[0m",
      "\u001b[1;31mTypeError\u001b[0m: 'str' object does not support item assignment"
     ]
    }
   ],
   "source": [
    "#strings are immutable\n",
    "my_str=\"hello\"\n",
    "my_str[2]='c'"
   ]
  },
  {
   "cell_type": "code",
   "execution_count": 49,
   "metadata": {},
   "outputs": [
    {
     "ename": "TypeError",
     "evalue": "'str' object doesn't support item deletion",
     "output_type": "error",
     "traceback": [
      "\u001b[1;31m---------------------------------------------------------------------------\u001b[0m",
      "\u001b[1;31mTypeError\u001b[0m                                 Traceback (most recent call last)",
      "\u001b[1;32m<ipython-input-49-8fb283db0566>\u001b[0m in \u001b[0;36m<module>\u001b[1;34m\u001b[0m\n\u001b[0;32m      1\u001b[0m \u001b[1;31m#del in strings\u001b[0m\u001b[1;33m\u001b[0m\u001b[1;33m\u001b[0m\u001b[1;33m\u001b[0m\u001b[0m\n\u001b[1;32m----> 2\u001b[1;33m \u001b[1;32mdel\u001b[0m \u001b[0mmy_str\u001b[0m\u001b[1;33m[\u001b[0m\u001b[1;36m2\u001b[0m\u001b[1;33m]\u001b[0m\u001b[1;33m\u001b[0m\u001b[1;33m\u001b[0m\u001b[0m\n\u001b[0m",
      "\u001b[1;31mTypeError\u001b[0m: 'str' object doesn't support item deletion"
     ]
    }
   ],
   "source": [
    "#del in strings\n",
    "del my_str[2]"
   ]
  },
  {
   "cell_type": "code",
   "execution_count": 50,
   "metadata": {},
   "outputs": [
    {
     "ename": "NameError",
     "evalue": "name 'my_str' is not defined",
     "output_type": "error",
     "traceback": [
      "\u001b[1;31m---------------------------------------------------------------------------\u001b[0m",
      "\u001b[1;31mNameError\u001b[0m                                 Traceback (most recent call last)",
      "\u001b[1;32m<ipython-input-50-1d53a7dd1447>\u001b[0m in \u001b[0;36m<module>\u001b[1;34m\u001b[0m\n\u001b[0;32m      1\u001b[0m \u001b[1;32mdel\u001b[0m \u001b[0mmy_str\u001b[0m\u001b[1;33m\u001b[0m\u001b[1;33m\u001b[0m\u001b[0m\n\u001b[1;32m----> 2\u001b[1;33m \u001b[0mprint\u001b[0m\u001b[1;33m(\u001b[0m\u001b[0mmy_str\u001b[0m\u001b[1;33m)\u001b[0m\u001b[1;33m\u001b[0m\u001b[1;33m\u001b[0m\u001b[0m\n\u001b[0m",
      "\u001b[1;31mNameError\u001b[0m: name 'my_str' is not defined"
     ]
    }
   ],
   "source": [
    "del my_str\n",
    "print(my_str)"
   ]
  },
  {
   "cell_type": "code",
   "execution_count": 51,
   "metadata": {},
   "outputs": [
    {
     "name": "stdout",
     "output_type": "stream",
     "text": [
      "HelloWorld\n",
      "HelloHelloHello\n"
     ]
    }
   ],
   "source": [
    "#concatinating and repeating strings\n",
    "print(\"Hello\"+\"World\")\n",
    "print(\"Hello\"*3)"
   ]
  },
  {
   "cell_type": "code",
   "execution_count": 56,
   "metadata": {},
   "outputs": [
    {
     "name": "stdout",
     "output_type": "stream",
     "text": [
      "5\n",
      "[(0, 'h'), (1, 'e'), (2, 'l'), (3, 'l'), (4, 'o')]\n"
     ]
    }
   ],
   "source": [
    "my_str=\"hello\"\n",
    "print(len(my_str))\n",
    "print(list(enumerate(my_str)))"
   ]
  },
  {
   "cell_type": "code",
   "execution_count": 60,
   "metadata": {},
   "outputs": [
    {
     "name": "stdout",
     "output_type": "stream",
     "text": [
      "hello 'world'\n",
      "hello \"world\"\n",
      "'hello''\n"
     ]
    }
   ],
   "source": [
    "print(\"hello 'world'\")\n",
    "print('hello \"world\"')\n",
    "print(\"'hello'\\'\")"
   ]
  },
  {
   "cell_type": "code",
   "execution_count": 61,
   "metadata": {},
   "outputs": [
    {
     "name": "stdout",
     "output_type": "stream",
     "text": [
      "c:\\users\\nitin>'DeepLearning'\n"
     ]
    }
   ],
   "source": [
    "#raw string\n",
    "print(r\"c:\\users\\nitin>'DeepLearning'\")"
   ]
  },
  {
   "cell_type": "code",
   "execution_count": 64,
   "metadata": {},
   "outputs": [
    {
     "name": "stdout",
     "output_type": "stream",
     "text": [
      "default order in python-nitin,abc,xyz\n",
      "default order in python-abc,nitin,xyz\n",
      "default order in python-nitin,xyz,abc\n"
     ]
    }
   ],
   "source": [
    "#formatting strings in python\n",
    "print(\"default order in python-{},{},{}\".format(\"nitin\",'abc','''xyz'''))\n",
    "print(\"default order in python-{1},{0},{2}\".format(\"nitin\",'abc','''xyz'''))\n",
    "print(\"default order in python-{n},{x},{a}\".format(n=\"nitin\",a='abc',x='''xyz'''))"
   ]
  },
  {
   "cell_type": "code",
   "execution_count": 70,
   "metadata": {},
   "outputs": [
    {
     "name": "stdout",
     "output_type": "stream",
     "text": [
      "12 binary is 1100\n",
      "532.345 exponent is 5.323450e+02\n",
      "0.3333333333333333 exponent is 0.33\n"
     ]
    }
   ],
   "source": [
    "print(\"{0} binary is {0:b}\".format(12))\n",
    "print(\"{0} exponent is {0:e}\".format(532.345))\n",
    "print(\"{0} exponent is {0:.2f}\".format(1/3))"
   ]
  },
  {
   "cell_type": "code",
   "execution_count": 72,
   "metadata": {},
   "outputs": [
    {
     "name": "stdout",
     "output_type": "stream",
     "text": [
      "ABC\n",
      "abc\n",
      "2\n",
      "hellooooo\n"
     ]
    }
   ],
   "source": [
    "#some methods of strings\n",
    "print(\"abc\".upper())\n",
    "print(\"ABC\".lower())\n",
    "print(\"hai\".find('i'))\n",
    "print(\"hello\".replace('o','ooooo'))"
   ]
  },
  {
   "cell_type": "markdown",
   "metadata": {},
   "source": [
    "# sets in python"
   ]
  },
  {
   "cell_type": "code",
   "execution_count": 75,
   "metadata": {},
   "outputs": [
    {
     "data": {
      "text/plain": [
       "set"
      ]
     },
     "execution_count": 75,
     "metadata": {},
     "output_type": "execute_result"
    }
   ],
   "source": [
    "#a set cannot have mutable elements\n",
    "my_set={1,2,3}\n",
    "type(my_set)"
   ]
  },
  {
   "cell_type": "code",
   "execution_count": 77,
   "metadata": {},
   "outputs": [
    {
     "name": "stdout",
     "output_type": "stream",
     "text": [
      "{(1, 2, 3, 4), 1, 2.0, 'nitin'}\n"
     ]
    }
   ],
   "source": [
    "my_set={1,2.0,\"nitin\",(1,2,3,4)}\n",
    "print(my_set)"
   ]
  },
  {
   "cell_type": "code",
   "execution_count": 78,
   "metadata": {},
   "outputs": [
    {
     "ename": "TypeError",
     "evalue": "unhashable type: 'list'",
     "output_type": "error",
     "traceback": [
      "\u001b[1;31m---------------------------------------------------------------------------\u001b[0m",
      "\u001b[1;31mTypeError\u001b[0m                                 Traceback (most recent call last)",
      "\u001b[1;32m<ipython-input-78-a4649bfe12c4>\u001b[0m in \u001b[0;36m<module>\u001b[1;34m\u001b[0m\n\u001b[0;32m      1\u001b[0m \u001b[1;31m#a set cannot have mutable elements\u001b[0m\u001b[1;33m\u001b[0m\u001b[1;33m\u001b[0m\u001b[1;33m\u001b[0m\u001b[0m\n\u001b[1;32m----> 2\u001b[1;33m \u001b[0mmy_set\u001b[0m\u001b[1;33m=\u001b[0m\u001b[1;33m{\u001b[0m\u001b[1;36m1\u001b[0m\u001b[1;33m,\u001b[0m\u001b[1;36m2.0\u001b[0m\u001b[1;33m,\u001b[0m\u001b[1;34m\"nitin\"\u001b[0m\u001b[1;33m,\u001b[0m\u001b[1;33m(\u001b[0m\u001b[1;36m1\u001b[0m\u001b[1;33m,\u001b[0m\u001b[1;36m2\u001b[0m\u001b[1;33m,\u001b[0m\u001b[1;36m3\u001b[0m\u001b[1;33m,\u001b[0m\u001b[1;36m4\u001b[0m\u001b[1;33m)\u001b[0m\u001b[1;33m,\u001b[0m\u001b[1;33m[\u001b[0m\u001b[1;36m1\u001b[0m\u001b[1;33m,\u001b[0m\u001b[1;36m2\u001b[0m\u001b[1;33m,\u001b[0m\u001b[1;36m3\u001b[0m\u001b[1;33m,\u001b[0m\u001b[1;36m4\u001b[0m\u001b[1;33m]\u001b[0m\u001b[1;33m}\u001b[0m\u001b[1;33m\u001b[0m\u001b[1;33m\u001b[0m\u001b[0m\n\u001b[0m\u001b[0;32m      3\u001b[0m \u001b[0mprint\u001b[0m\u001b[1;33m(\u001b[0m\u001b[0mmy_set\u001b[0m\u001b[1;33m)\u001b[0m\u001b[1;33m\u001b[0m\u001b[1;33m\u001b[0m\u001b[0m\n",
      "\u001b[1;31mTypeError\u001b[0m: unhashable type: 'list'"
     ]
    }
   ],
   "source": [
    "#a set cannot have mutable elements\n",
    "my_set={1,2.0,\"nitin\",(1,2,3,4),[1,2,3,4]}\n",
    "print(my_set)"
   ]
  },
  {
   "cell_type": "code",
   "execution_count": 80,
   "metadata": {},
   "outputs": [
    {
     "name": "stdout",
     "output_type": "stream",
     "text": [
      "{1, 2, 3, 4}\n"
     ]
    }
   ],
   "source": [
    "#set doesn't store duplicate elements\n",
    "my_set={1,2,3,4,4,4,4,4}\n",
    "print(my_set)"
   ]
  },
  {
   "cell_type": "code",
   "execution_count": 5,
   "metadata": {},
   "outputs": [
    {
     "name": "stdout",
     "output_type": "stream",
     "text": [
      "{1, 2, 3, 4, 5}\n",
      "{1, 2, 3, 4, 5, 6}\n",
      "{1, 2, 3, 4, 5, 6, 7, 8, 9}\n"
     ]
    }
   ],
   "source": [
    "#some methods in python sets\n",
    "my_set={1,2,3,4,5}\n",
    "print(my_set)\n",
    "my_set.add(6)\n",
    "print(my_set)\n",
    "my_set.update([7,8,9])\n",
    "print(my_set)"
   ]
  },
  {
   "cell_type": "code",
   "execution_count": 11,
   "metadata": {},
   "outputs": [
    {
     "name": "stdout",
     "output_type": "stream",
     "text": [
      "intial my_set {1, 2, 3, 4, 5}\n",
      "discarded 4 my_set {1, 2, 3, 5}\n",
      "discarded 4 my_set {2, 3, 5}\n",
      "removed 7(not there) my_set {2, 3, 5}\n"
     ]
    },
    {
     "ename": "KeyError",
     "evalue": "7",
     "output_type": "error",
     "traceback": [
      "\u001b[1;31m---------------------------------------------------------------------------\u001b[0m",
      "\u001b[1;31mKeyError\u001b[0m                                  Traceback (most recent call last)",
      "\u001b[1;32m<ipython-input-11-8ddfb6c900a6>\u001b[0m in \u001b[0;36m<module>\u001b[1;34m\u001b[0m\n\u001b[0;32m      9\u001b[0m \u001b[0mmy_set\u001b[0m\u001b[1;33m.\u001b[0m\u001b[0mdiscard\u001b[0m\u001b[1;33m(\u001b[0m\u001b[1;36m7\u001b[0m\u001b[1;33m)\u001b[0m\u001b[1;33m\u001b[0m\u001b[1;33m\u001b[0m\u001b[0m\n\u001b[0;32m     10\u001b[0m \u001b[0mprint\u001b[0m\u001b[1;33m(\u001b[0m\u001b[1;34m'removed 7(not there) my_set'\u001b[0m\u001b[1;33m,\u001b[0m\u001b[0mmy_set\u001b[0m\u001b[1;33m)\u001b[0m\u001b[1;33m\u001b[0m\u001b[1;33m\u001b[0m\u001b[0m\n\u001b[1;32m---> 11\u001b[1;33m \u001b[0mmy_set\u001b[0m\u001b[1;33m.\u001b[0m\u001b[0mremove\u001b[0m\u001b[1;33m(\u001b[0m\u001b[1;36m7\u001b[0m\u001b[1;33m)\u001b[0m\u001b[1;33m\u001b[0m\u001b[1;33m\u001b[0m\u001b[0m\n\u001b[0m\u001b[0;32m     12\u001b[0m \u001b[0mprint\u001b[0m\u001b[1;33m(\u001b[0m\u001b[1;34m'removed 7(not there) my_set'\u001b[0m\u001b[1;33m,\u001b[0m\u001b[0mmy_set\u001b[0m\u001b[1;33m)\u001b[0m\u001b[1;33m\u001b[0m\u001b[1;33m\u001b[0m\u001b[0m\n",
      "\u001b[1;31mKeyError\u001b[0m: 7"
     ]
    }
   ],
   "source": [
    "#discard and remove in sets\n",
    "my_set={1,2,3,4,5}\n",
    "print('intial my_set',my_set)\n",
    "my_set.discard(4)\n",
    "print('discarded 4 my_set',my_set)\n",
    "my_set.remove(1)\n",
    "print('discarded 4 my_set',my_set)\n",
    "#diffrence\n",
    "my_set.discard(7)\n",
    "print('removed 7(not there) my_set',my_set)\n",
    "my_set.remove(7)\n",
    "print('removed 7(not there) my_set',my_set)"
   ]
  },
  {
   "cell_type": "code",
   "execution_count": 15,
   "metadata": {},
   "outputs": [
    {
     "name": "stdout",
     "output_type": "stream",
     "text": [
      "initial my_set {'h', 'e', 'o', 'l'}\n",
      "h\n",
      "cleared my_set set()\n"
     ]
    }
   ],
   "source": [
    "#pop and clear in sets\n",
    "my_set=set('hello')\n",
    "print('initial my_set',my_set)\n",
    "print(my_set.pop())\n",
    "my_set.clear()\n",
    "print('cleared my_set',my_set)"
   ]
  },
  {
   "cell_type": "code",
   "execution_count": 16,
   "metadata": {},
   "outputs": [
    {
     "name": "stdout",
     "output_type": "stream",
     "text": [
      "{1, 2, 3, 4, 5, 6, 7, 8}\n",
      "{4, 5}\n",
      "{1, 2, 3}\n"
     ]
    }
   ],
   "source": [
    "#set operations in python\n",
    "a={1,2,3,4,5}\n",
    "b={4,5,6,7,8}\n",
    "#union\n",
    "print(a | b)\n",
    "#intersection\n",
    "print(a & b)\n",
    "#set difference\n",
    "print(a-b)"
   ]
  },
  {
   "cell_type": "markdown",
   "metadata": {},
   "source": [
    "# dictionaries in python"
   ]
  },
  {
   "cell_type": "code",
   "execution_count": 20,
   "metadata": {},
   "outputs": [
    {
     "name": "stdout",
     "output_type": "stream",
     "text": [
      "my_dict: {}\n",
      "my_dict: {1: 'apple', 2: 'ball'}\n",
      "my_dict: {1: 'apple', 2: 'ball'}\n",
      "my_dict: {1: 'apple', 2: 'ball'}\n"
     ]
    }
   ],
   "source": [
    "#dictionary in python\n",
    "my_dict={}\n",
    "print('my_dict:',my_dict)\n",
    "my_dict={1:'apple',2:'ball'}\n",
    "print('my_dict:',my_dict)\n",
    "my_dict=dict({1:'apple',2:'ball'})\n",
    "print('my_dict:',my_dict)\n",
    "my_dict=dict([(1,\"apple\"),(2,\"ball\")])\n",
    "print('my_dict:',my_dict)"
   ]
  },
  {
   "cell_type": "code",
   "execution_count": 24,
   "metadata": {},
   "outputs": [
    {
     "name": "stdout",
     "output_type": "stream",
     "text": [
      "nitin\n",
      "123\n"
     ]
    }
   ],
   "source": [
    "my_dict={'name':'nitin','rollno':'123'}\n",
    "print(my_dict[\"name\"])\n",
    "print(my_dict[\"rollno\"])"
   ]
  },
  {
   "cell_type": "code",
   "execution_count": 26,
   "metadata": {},
   "outputs": [
    {
     "name": "stdout",
     "output_type": "stream",
     "text": [
      "{'name': 'nitin', 'rollno': 456}\n"
     ]
    },
    {
     "data": {
      "text/plain": [
       "dict"
      ]
     },
     "execution_count": 26,
     "metadata": {},
     "output_type": "execute_result"
    }
   ],
   "source": [
    "#dictionaries are mutable\n",
    "my_dict={'name':'nitin','rollno':123}\n",
    "my_dict['rollno']=456\n",
    "print(my_dict)\n",
    "type(my_dict)"
   ]
  },
  {
   "cell_type": "code",
   "execution_count": 32,
   "metadata": {},
   "outputs": [
    {
     "name": "stdout",
     "output_type": "stream",
     "text": [
      "{1: 1, 2: 4, 3: 9, 4: 16, 5: 25}\n",
      "16\n",
      "(5, 25)\n",
      "{1: 1, 2: 4, 3: 9}\n",
      "{}\n"
     ]
    },
    {
     "ename": "NameError",
     "evalue": "name 'sq' is not defined",
     "output_type": "error",
     "traceback": [
      "\u001b[1;31m---------------------------------------------------------------------------\u001b[0m",
      "\u001b[1;31mNameError\u001b[0m                                 Traceback (most recent call last)",
      "\u001b[1;32m<ipython-input-32-ac71ed8e3719>\u001b[0m in \u001b[0;36m<module>\u001b[1;34m\u001b[0m\n\u001b[0;32m      7\u001b[0m \u001b[0mprint\u001b[0m\u001b[1;33m(\u001b[0m\u001b[0msq\u001b[0m\u001b[1;33m)\u001b[0m\u001b[1;33m\u001b[0m\u001b[1;33m\u001b[0m\u001b[0m\n\u001b[0;32m      8\u001b[0m \u001b[1;32mdel\u001b[0m \u001b[0msq\u001b[0m\u001b[1;33m\u001b[0m\u001b[1;33m\u001b[0m\u001b[0m\n\u001b[1;32m----> 9\u001b[1;33m \u001b[0mprint\u001b[0m\u001b[1;33m(\u001b[0m\u001b[0msq\u001b[0m\u001b[1;33m)\u001b[0m\u001b[1;33m\u001b[0m\u001b[1;33m\u001b[0m\u001b[0m\n\u001b[0m",
      "\u001b[1;31mNameError\u001b[0m: name 'sq' is not defined"
     ]
    }
   ],
   "source": [
    "sq={1:1,2:4,3:9,4:16,5:25}\n",
    "print(sq)\n",
    "print(sq.pop(4))\n",
    "print(sq.popitem())\n",
    "print(sq)\n",
    "sq.clear()\n",
    "print(sq)\n",
    "del sq\n",
    "print(sq)"
   ]
  },
  {
   "cell_type": "code",
   "execution_count": 39,
   "metadata": {},
   "outputs": [
    {
     "name": "stdout",
     "output_type": "stream",
     "text": [
      "dict_keys([1, 2, 3, 4, 5])\n",
      "dict_values([1, 4, 9, 16, 25])\n",
      "dict_items([(1, 1), (2, 4), (3, 9), (4, 16), (5, 25)])\n",
      "16\n"
     ]
    }
   ],
   "source": [
    "#some methods\n",
    "sq={1:1,2:4,3:9,4:16,5:25}\n",
    "print(sq.keys())\n",
    "print(sq.values())\n",
    "print(sq.items())\n",
    "print(sq.get(4))"
   ]
  },
  {
   "cell_type": "code",
   "execution_count": 44,
   "metadata": {},
   "outputs": [
    {
     "name": "stdout",
     "output_type": "stream",
     "text": [
      "{1: 1, 2: 4, 3: 9, 4: 16, 5: 25, 6: 36, 7: 49, 8: 64, 9: 81}\n",
      "{1: 1, 2: 4, 3: 9, 4: 16, 5: 25, 6: 36, 7: 49, 8: 64, 9: 81}\n"
     ]
    }
   ],
   "source": [
    "sq={}\n",
    "for x in range(1,10):\n",
    "    sq[x]=x**2\n",
    "        \n",
    "print(sq)\n",
    "#dict comprehension\n",
    "sq1={x:x**2 for x in range(1,10)}\n",
    "print(sq1)"
   ]
  },
  {
   "cell_type": "markdown",
   "metadata": {},
   "source": [
    "# Map in python"
   ]
  },
  {
   "cell_type": "code",
   "execution_count": 47,
   "metadata": {},
   "outputs": [
    {
     "name": "stdout",
     "output_type": "stream",
     "text": [
      "<map object at 0x000001E57FD46130>\n",
      "[1, 4, 9, 16]\n"
     ]
    }
   ],
   "source": [
    "def calculatesq(x):\n",
    "    return x**2\n",
    "\n",
    "num=[1,2,3,4]\n",
    "res=map(calculatesq,num)\n",
    "print(res)\n",
    "print(list(res))"
   ]
  },
  {
   "cell_type": "code",
   "execution_count": 51,
   "metadata": {},
   "outputs": [
    {
     "name": "stdout",
     "output_type": "stream",
     "text": [
      "<map object at 0x000001E57FE18160>\n",
      "[1, 4, 9, 16]\n"
     ]
    }
   ],
   "source": [
    "#using lambda function\n",
    "num=[1,2,3,4]\n",
    "res=map(lambda x:x**2,num)\n",
    "print(res)\n",
    "print(list(res))"
   ]
  },
  {
   "cell_type": "code",
   "execution_count": 52,
   "metadata": {},
   "outputs": [
    {
     "name": "stdout",
     "output_type": "stream",
     "text": [
      "(5, 7, 9)\n"
     ]
    }
   ],
   "source": [
    "a=[1,2,3]\n",
    "b=[4,5,6]\n",
    "res=map(lambda x,y:x+y,a,b)\n",
    "print(tuple(res))"
   ]
  }
 ],
 "metadata": {
  "kernelspec": {
   "display_name": "Python 3",
   "language": "python",
   "name": "python3"
  },
  "language_info": {
   "codemirror_mode": {
    "name": "ipython",
    "version": 3
   },
   "file_extension": ".py",
   "mimetype": "text/x-python",
   "name": "python",
   "nbconvert_exporter": "python",
   "pygments_lexer": "ipython3",
   "version": "3.8.5"
  }
 },
 "nbformat": 4,
 "nbformat_minor": 4
}
