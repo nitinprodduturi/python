{
 "cells": [
  {
   "cell_type": "code",
   "execution_count": null,
   "metadata": {},
   "outputs": [],
   "source": []
  },
  {
   "cell_type": "code",
   "execution_count": 10,
   "metadata": {},
   "outputs": [
    {
     "name": "stdout",
     "output_type": "stream",
     "text": [
      "bird\n",
      "bird\n",
      "bird\n",
      "bird\n",
      "bird\n",
      "blu,10\n",
      "Woo,20\n",
      "blu\n",
      "After setting age--->blu,30\n"
     ]
    }
   ],
   "source": [
    "#class and object in python\n",
    "class Parrot:\n",
    "    #class attribute\n",
    "    species=\"bird\"\n",
    "    #instance attribute\n",
    "    def __init__(self,name,age):\n",
    "        self.name=name\n",
    "        self.age=age\n",
    "    def get_name(self):\n",
    "        return self.name\n",
    "    def set_age(self,age):\n",
    "        self.age=age\n",
    "blu=Parrot(\"blu\",10)\n",
    "woo=Parrot(\"Woo\",20)\n",
    "print(Parrot.species)\n",
    "print(blu.species)\n",
    "print(woo.species)\n",
    "print(blu.__class__.species)\n",
    "print(woo.__class__.species)\n",
    "print('{},{}'.format(blu.name,blu.age))\n",
    "print('{},{}'.format(woo.name,woo.age))\n",
    "print(blu.get_name())\n",
    "blu.set_age(30)\n",
    "print('After setting age--->{},{}'.format(blu.name,blu.age))"
   ]
  },
  {
   "cell_type": "code",
   "execution_count": 19,
   "metadata": {},
   "outputs": [
    {
     "name": "stdout",
     "output_type": "stream",
     "text": [
      "Bird is empty\n",
      "penguin is ready\n",
      "Penguin\n",
      "run faster\n",
      "swim faster\n"
     ]
    }
   ],
   "source": [
    "#inheritance in python\n",
    "class Bird:\n",
    "    def __init__(self):\n",
    "        print(\"Bird is empty\")\n",
    "    \n",
    "    def whoisThis(self):\n",
    "        print(\"Bird\")\n",
    "    def swim(self):\n",
    "        print(\"swim faster\")\n",
    "        \n",
    "class Penguin(Bird):\n",
    "    \n",
    "    def __init__(self):\n",
    "        super().__init__()\n",
    "        print('penguin is ready')\n",
    "    \n",
    "    def whoisThis(self):\n",
    "        print(\"Penguin\")\n",
    "    def run(self):\n",
    "        print(\"run faster\")\n",
    "        \n",
    "p=Penguin()\n",
    "p.whoisThis()\n",
    "p.run()\n",
    "p.swim()"
   ]
  },
  {
   "cell_type": "code",
   "execution_count": 23,
   "metadata": {},
   "outputs": [
    {
     "name": "stdout",
     "output_type": "stream",
     "text": [
      "selling price:900\n",
      "selling price:900\n",
      "selling price:1000\n"
     ]
    }
   ],
   "source": [
    "#enapsulation in python oops\n",
    "class Computer:\n",
    "    def __init__(self):\n",
    "        self.__maxprice=900\n",
    "        \n",
    "    def sell(self):\n",
    "        print('selling price:{}'.format(self.__maxprice))\n",
    "        \n",
    "    def setMaxPrice(self,price):\n",
    "        self.__maxprice=price\n",
    "\n",
    "c=Computer()\n",
    "c.sell()\n",
    "\n",
    "c.__maxprice=1000\n",
    "c.sell()\n",
    "c.setMaxPrice(1000)\n",
    "c.sell()"
   ]
  },
  {
   "cell_type": "code",
   "execution_count": 24,
   "metadata": {},
   "outputs": [
    {
     "name": "stdout",
     "output_type": "stream",
     "text": [
      "Parrot can fly\n",
      "Parrot can't fly\n"
     ]
    }
   ],
   "source": [
    "#polymorphism in python\n",
    "class Parrot:\n",
    "    \n",
    "    def fly(self):\n",
    "        print('Parrot can fly')\n",
    "    def swim(self):\n",
    "        print(\"Parrot can't swim\")\n",
    "\n",
    "class Penguin:\n",
    "    \n",
    "    def fly(self):\n",
    "        print(\"Parrot can't fly\")\n",
    "    def swim(self):\n",
    "        print(\"Parrot can swim\")\n",
    "        \n",
    "#common interface\n",
    "def flying_test(bird):\n",
    "    bird.fly()\n",
    "    \n",
    "blu=Parrot()\n",
    "p=Penguin()\n",
    "\n",
    "flying_test(blu)\n",
    "flying_test(p)"
   ]
  }
 ],
 "metadata": {
  "kernelspec": {
   "display_name": "Python 3",
   "language": "python",
   "name": "python3"
  },
  "language_info": {
   "codemirror_mode": {
    "name": "ipython",
    "version": 3
   },
   "file_extension": ".py",
   "mimetype": "text/x-python",
   "name": "python",
   "nbconvert_exporter": "python",
   "pygments_lexer": "ipython3",
   "version": "3.8.5"
  }
 },
 "nbformat": 4,
 "nbformat_minor": 4
}
